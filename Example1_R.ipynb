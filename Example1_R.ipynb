{
 "cells": [
  {
   "cell_type": "markdown",
   "metadata": {},
   "source": [
    "# The Project Jupyter"
   ]
  },
  {
   "cell_type": "markdown",
   "metadata": {},
   "source": [
    "## 1. Introduction to Jupyter"
   ]
  },
  {
   "cell_type": "markdown",
   "metadata": {},
   "source": [
    "The __Jupyter Notebook__ is an _open-source_ web application that allows you to create and share documents <br /> that contain live code, equations, visualizations and narrative text.<br />Uses include: data cleaning and transformation, numerical simulation, statistical modeling, data visualization, machine learning, and much more.<br />\n",
    "__Note:__ More information visit https://jupyter.org/\n"
   ]
  },
  {
   "cell_type": "markdown",
   "metadata": {},
   "source": [
    "# Introduction to R"
   ]
  },
  {
   "cell_type": "markdown",
   "metadata": {},
   "source": [
    "R is a language and environment for statistical computing and graphics.<br /> R provides a wide variety of statistical (linear and nonlinear modelling, classical statistical tests, time-series analysis, classification, clustering, …) <br />and graphical techniques, and is highly extensible.<br />One of R’s strengths is the ease with which well-designed publication-quality plots can be produced, including mathematical symbols and formulas where needed.<br />\n",
    "__Note:__ More information visit https://www.r-project.org/"
   ]
  },
  {
   "cell_type": "markdown",
   "metadata": {},
   "source": [
    "## Basic Calculations"
   ]
  },
  {
   "cell_type": "code",
   "execution_count": 17,
   "metadata": {},
   "outputs": [
    {
     "data": {
      "text/html": [
       "3"
      ],
      "text/latex": [
       "3"
      ],
      "text/markdown": [
       "3"
      ],
      "text/plain": [
       "[1] 3"
      ]
     },
     "metadata": {},
     "output_type": "display_data"
    }
   ],
   "source": [
    "1 + 2"
   ]
  },
  {
   "cell_type": "code",
   "execution_count": 18,
   "metadata": {},
   "outputs": [
    {
     "data": {
      "text/html": [
       "3"
      ],
      "text/latex": [
       "3"
      ],
      "text/markdown": [
       "3"
      ],
      "text/plain": [
       "[1] 3"
      ]
     },
     "metadata": {},
     "output_type": "display_data"
    }
   ],
   "source": [
    "x <- 1 + 2; x"
   ]
  },
  {
   "cell_type": "code",
   "execution_count": 19,
   "metadata": {},
   "outputs": [
    {
     "data": {
      "text/html": [
       "4"
      ],
      "text/latex": [
       "4"
      ],
      "text/markdown": [
       "4"
      ],
      "text/plain": [
       "[1] 4"
      ]
     },
     "metadata": {},
     "output_type": "display_data"
    }
   ],
   "source": [
    "1 + 3 -> y\n",
    "y"
   ]
  },
  {
   "cell_type": "code",
   "execution_count": null,
   "metadata": {},
   "outputs": [],
   "source": [
    "1 / 2 * sqrt((x^2) + (sqrt(y)^4)) / 5 - (-1)"
   ]
  },
  {
   "cell_type": "markdown",
   "metadata": {},
   "source": [
    "__Note__: The order of operations<br />\n",
    "_PEMDAS_- Parentheses, Exponents, Multiplication and Division, and Addition and Subtraction"
   ]
  },
  {
   "cell_type": "markdown",
   "metadata": {},
   "source": [
    "__Note:__ R always works with angles in radians, not in degrees."
   ]
  },
  {
   "cell_type": "markdown",
   "metadata": {},
   "source": [
    "$$\\frac{1}{2} * \\frac{\\sqrt{x^2 + \\sqrt{y^4}}}{5} - (-1)$$"
   ]
  },
  {
   "cell_type": "code",
   "execution_count": null,
   "metadata": {},
   "outputs": [],
   "source": [
    "sin(30*pi/180) + cos(60*pi/180)"
   ]
  },
  {
   "cell_type": "markdown",
   "metadata": {},
   "source": [
    "Operators are also functions."
   ]
  },
  {
   "cell_type": "code",
   "execution_count": null,
   "metadata": {},
   "outputs": [],
   "source": [
    "'+'(2,3)"
   ]
  },
  {
   "cell_type": "markdown",
   "metadata": {},
   "source": [
    "__HELP__"
   ]
  },
  {
   "cell_type": "code",
   "execution_count": null,
   "metadata": {},
   "outputs": [],
   "source": [
    "?cos"
   ]
  },
  {
   "cell_type": "code",
   "execution_count": null,
   "metadata": {},
   "outputs": [],
   "source": [
    "help(sum)"
   ]
  },
  {
   "cell_type": "code",
   "execution_count": null,
   "metadata": {},
   "outputs": [],
   "source": [
    "?Special"
   ]
  },
  {
   "cell_type": "markdown",
   "metadata": {},
   "source": [
    "## The __R__ Package System"
   ]
  },
  {
   "cell_type": "markdown",
   "metadata": {},
   "source": [
    "_Installs_ packages from CRAN <br /> __Note:__ __CRAN__ (Comprehensive R Archive Network) is the main source for __R__."
   ]
  },
  {
   "cell_type": "code",
   "execution_count": 2,
   "metadata": {},
   "outputs": [
    {
     "name": "stdout",
     "output_type": "stream",
     "text": [
      "package 'readxl' successfully unpacked and MD5 sums checked\n",
      "\n",
      "The downloaded binary packages are in\n",
      "\tC:\\Users\\aliaj\\AppData\\Local\\Temp\\RtmpY3BjMp\\downloaded_packages\n"
     ]
    }
   ],
   "source": [
    "install.packages(\"readxl\")"
   ]
  },
  {
   "cell_type": "markdown",
   "metadata": {},
   "source": [
    "__Installs__ and loads __library__ specific to a project."
   ]
  },
  {
   "cell_type": "code",
   "execution_count": 3,
   "metadata": {},
   "outputs": [
    {
     "name": "stderr",
     "output_type": "stream",
     "text": [
      "Warning message:\n",
      "\"package 'readxl' was built under R version 3.6.3\""
     ]
    }
   ],
   "source": [
    "library(readxl)"
   ]
  },
  {
   "cell_type": "markdown",
   "metadata": {},
   "source": [
    "Many R function come in __packages__ that are written by R's active user community.<br />\n",
    "https://support.rstudio.com/hc/en-us/articles/201057987-Quick-list-of-useful-R-packages<br />\n",
    "https://www.computerworld.com/article/2921176/great-r-packages-for-data-import-wrangling-visualization.html"
   ]
  },
  {
   "cell_type": "markdown",
   "metadata": {},
   "source": [
    "Import data in to R. <br /> __Note1:__ Data is taken from _Montgomery, D. C., & Runger, G. C. (2007). Applied statistics and probability for engineers. Hoboken, NJ: Wiley._ <br /> __Note2:__ You can find details in the following link about markdown for Jupyter Notebooks. <br /> https://medium.com/ibm-data-science-experience/markdown-for-jupyter-notebooks-cheatsheet-386c05aeebed"
   ]
  },
  {
   "cell_type": "code",
   "execution_count": 9,
   "metadata": {},
   "outputs": [],
   "source": [
    "data <- read_excel(\"C:/Users/aliaj/Desktop/2019 Spring_BME1132_Probability and Biostatistics/Software/weights_grams.xlsx\")"
   ]
  },
  {
   "cell_type": "markdown",
   "metadata": {},
   "source": [
    "The __str__ucture of an _R object_."
   ]
  },
  {
   "cell_type": "code",
   "execution_count": 10,
   "metadata": {},
   "outputs": [
    {
     "data": {
      "text/html": [
       "<table>\n",
       "<thead><tr><th scope=col>grams</th></tr></thead>\n",
       "<tbody>\n",
       "\t<tr><td>3288</td></tr>\n",
       "\t<tr><td>3231</td></tr>\n",
       "\t<tr><td>2778</td></tr>\n",
       "\t<tr><td>3005</td></tr>\n",
       "\t<tr><td>3062</td></tr>\n",
       "\t<tr><td>3090</td></tr>\n",
       "\t<tr><td>3997</td></tr>\n",
       "\t<tr><td>3402</td></tr>\n",
       "\t<tr><td>3204</td></tr>\n",
       "\t<tr><td>3260</td></tr>\n",
       "\t<tr><td>2807</td></tr>\n",
       "\t<tr><td>2552</td></tr>\n",
       "\t<tr><td>4026</td></tr>\n",
       "\t<tr><td>3005</td></tr>\n",
       "\t<tr><td>3345</td></tr>\n",
       "\t<tr><td>2637</td></tr>\n",
       "\t<tr><td>2778</td></tr>\n",
       "\t<tr><td>3118</td></tr>\n",
       "\t<tr><td>4026</td></tr>\n",
       "\t<tr><td>2778</td></tr>\n",
       "\t<tr><td>3317</td></tr>\n",
       "\t<tr><td>3402</td></tr>\n",
       "\t<tr><td>3118</td></tr>\n",
       "\t<tr><td>2863</td></tr>\n",
       "\t<tr><td>2835</td></tr>\n",
       "\t<tr><td>3629</td></tr>\n",
       "\t<tr><td>2608</td></tr>\n",
       "\t<tr><td>3090</td></tr>\n",
       "\t<tr><td>2552</td></tr>\n",
       "\t<tr><td>2892</td></tr>\n",
       "\t<tr><td>...</td></tr>\n",
       "\t<tr><td>2835</td></tr>\n",
       "\t<tr><td>3317</td></tr>\n",
       "\t<tr><td>2693</td></tr>\n",
       "\t<tr><td>3147</td></tr>\n",
       "\t<tr><td>2977</td></tr>\n",
       "\t<tr><td>2892</td></tr>\n",
       "\t<tr><td>1588</td></tr>\n",
       "\t<tr><td>2211</td></tr>\n",
       "\t<tr><td>3657</td></tr>\n",
       "\t<tr><td>3459</td></tr>\n",
       "\t<tr><td>3374</td></tr>\n",
       "\t<tr><td>3600</td></tr>\n",
       "\t<tr><td>4139</td></tr>\n",
       "\t<tr><td>2211</td></tr>\n",
       "\t<tr><td>2268</td></tr>\n",
       "\t<tr><td>3430</td></tr>\n",
       "\t<tr><td>3856</td></tr>\n",
       "\t<tr><td>3232</td></tr>\n",
       "\t<tr><td>3487</td></tr>\n",
       "\t<tr><td>3033</td></tr>\n",
       "\t<tr><td>3289</td></tr>\n",
       "\t<tr><td>3374</td></tr>\n",
       "\t<tr><td>3204</td></tr>\n",
       "\t<tr><td>3629</td></tr>\n",
       "\t<tr><td>3090</td></tr>\n",
       "\t<tr><td>4819</td></tr>\n",
       "\t<tr><td>3260</td></tr>\n",
       "\t<tr><td>3289</td></tr>\n",
       "\t<tr><td>2637</td></tr>\n",
       "\t<tr><td>2807</td></tr>\n",
       "</tbody>\n",
       "</table>\n"
      ],
      "text/latex": [
       "\\begin{tabular}{r|l}\n",
       " grams\\\\\n",
       "\\hline\n",
       "\t 3288\\\\\n",
       "\t 3231\\\\\n",
       "\t 2778\\\\\n",
       "\t 3005\\\\\n",
       "\t 3062\\\\\n",
       "\t 3090\\\\\n",
       "\t 3997\\\\\n",
       "\t 3402\\\\\n",
       "\t 3204\\\\\n",
       "\t 3260\\\\\n",
       "\t 2807\\\\\n",
       "\t 2552\\\\\n",
       "\t 4026\\\\\n",
       "\t 3005\\\\\n",
       "\t 3345\\\\\n",
       "\t 2637\\\\\n",
       "\t 2778\\\\\n",
       "\t 3118\\\\\n",
       "\t 4026\\\\\n",
       "\t 2778\\\\\n",
       "\t 3317\\\\\n",
       "\t 3402\\\\\n",
       "\t 3118\\\\\n",
       "\t 2863\\\\\n",
       "\t 2835\\\\\n",
       "\t 3629\\\\\n",
       "\t 2608\\\\\n",
       "\t 3090\\\\\n",
       "\t 2552\\\\\n",
       "\t 2892\\\\\n",
       "\t ...\\\\\n",
       "\t 2835\\\\\n",
       "\t 3317\\\\\n",
       "\t 2693\\\\\n",
       "\t 3147\\\\\n",
       "\t 2977\\\\\n",
       "\t 2892\\\\\n",
       "\t 1588\\\\\n",
       "\t 2211\\\\\n",
       "\t 3657\\\\\n",
       "\t 3459\\\\\n",
       "\t 3374\\\\\n",
       "\t 3600\\\\\n",
       "\t 4139\\\\\n",
       "\t 2211\\\\\n",
       "\t 2268\\\\\n",
       "\t 3430\\\\\n",
       "\t 3856\\\\\n",
       "\t 3232\\\\\n",
       "\t 3487\\\\\n",
       "\t 3033\\\\\n",
       "\t 3289\\\\\n",
       "\t 3374\\\\\n",
       "\t 3204\\\\\n",
       "\t 3629\\\\\n",
       "\t 3090\\\\\n",
       "\t 4819\\\\\n",
       "\t 3260\\\\\n",
       "\t 3289\\\\\n",
       "\t 2637\\\\\n",
       "\t 2807\\\\\n",
       "\\end{tabular}\n"
      ],
      "text/markdown": [
       "\n",
       "| grams |\n",
       "|---|\n",
       "| 3288 |\n",
       "| 3231 |\n",
       "| 2778 |\n",
       "| 3005 |\n",
       "| 3062 |\n",
       "| 3090 |\n",
       "| 3997 |\n",
       "| 3402 |\n",
       "| 3204 |\n",
       "| 3260 |\n",
       "| 2807 |\n",
       "| 2552 |\n",
       "| 4026 |\n",
       "| 3005 |\n",
       "| 3345 |\n",
       "| 2637 |\n",
       "| 2778 |\n",
       "| 3118 |\n",
       "| 4026 |\n",
       "| 2778 |\n",
       "| 3317 |\n",
       "| 3402 |\n",
       "| 3118 |\n",
       "| 2863 |\n",
       "| 2835 |\n",
       "| 3629 |\n",
       "| 2608 |\n",
       "| 3090 |\n",
       "| 2552 |\n",
       "| 2892 |\n",
       "| ... |\n",
       "| 2835 |\n",
       "| 3317 |\n",
       "| 2693 |\n",
       "| 3147 |\n",
       "| 2977 |\n",
       "| 2892 |\n",
       "| 1588 |\n",
       "| 2211 |\n",
       "| 3657 |\n",
       "| 3459 |\n",
       "| 3374 |\n",
       "| 3600 |\n",
       "| 4139 |\n",
       "| 2211 |\n",
       "| 2268 |\n",
       "| 3430 |\n",
       "| 3856 |\n",
       "| 3232 |\n",
       "| 3487 |\n",
       "| 3033 |\n",
       "| 3289 |\n",
       "| 3374 |\n",
       "| 3204 |\n",
       "| 3629 |\n",
       "| 3090 |\n",
       "| 4819 |\n",
       "| 3260 |\n",
       "| 3289 |\n",
       "| 2637 |\n",
       "| 2807 |\n",
       "\n"
      ],
      "text/plain": [
       "    grams\n",
       "1   3288 \n",
       "2   3231 \n",
       "3   2778 \n",
       "4   3005 \n",
       "5   3062 \n",
       "6   3090 \n",
       "7   3997 \n",
       "8   3402 \n",
       "9   3204 \n",
       "10  3260 \n",
       "11  2807 \n",
       "12  2552 \n",
       "13  4026 \n",
       "14  3005 \n",
       "15  3345 \n",
       "16  2637 \n",
       "17  2778 \n",
       "18  3118 \n",
       "19  4026 \n",
       "20  2778 \n",
       "21  3317 \n",
       "22  3402 \n",
       "23  3118 \n",
       "24  2863 \n",
       "25  2835 \n",
       "26  3629 \n",
       "27  2608 \n",
       "28  3090 \n",
       "29  2552 \n",
       "30  2892 \n",
       "... ...  \n",
       "71  2835 \n",
       "72  3317 \n",
       "73  2693 \n",
       "74  3147 \n",
       "75  2977 \n",
       "76  2892 \n",
       "77  1588 \n",
       "78  2211 \n",
       "79  3657 \n",
       "80  3459 \n",
       "81  3374 \n",
       "82  3600 \n",
       "83  4139 \n",
       "84  2211 \n",
       "85  2268 \n",
       "86  3430 \n",
       "87  3856 \n",
       "88  3232 \n",
       "89  3487 \n",
       "90  3033 \n",
       "91  3289 \n",
       "92  3374 \n",
       "93  3204 \n",
       "94  3629 \n",
       "95  3090 \n",
       "96  4819 \n",
       "97  3260 \n",
       "98  3289 \n",
       "99  2637 \n",
       "100 2807 "
      ]
     },
     "metadata": {},
     "output_type": "display_data"
    }
   ],
   "source": [
    "data"
   ]
  },
  {
   "cell_type": "markdown",
   "metadata": {},
   "source": [
    "Summarize the value of data."
   ]
  },
  {
   "cell_type": "code",
   "execution_count": 11,
   "metadata": {},
   "outputs": [
    {
     "data": {
      "text/plain": [
       "   Min. 1st Qu.  Median    Mean 3rd Qu.    Max. \n",
       "   1588    2828    3147    3144    3381    4819 "
      ]
     },
     "metadata": {},
     "output_type": "display_data"
    }
   ],
   "source": [
    "summary(data$grams)"
   ]
  },
  {
   "cell_type": "code",
   "execution_count": 19,
   "metadata": {},
   "outputs": [
    {
     "name": "stdout",
     "output_type": "stream",
     "text": [
      "\n",
      "  The decimal point is 3 digit(s) to the right of the |\n",
      "\n",
      "  1 | 69\n",
      "  2 | 222344\n",
      "  2 | 66666677788888888889999999\n",
      "  3 | 000001111111111112222222223333333333333444444\n",
      "  3 | 55556666677889\n",
      "  4 | 00013\n",
      "  4 | 58\n",
      "\n"
     ]
    }
   ],
   "source": [
    "stem(data$grams)"
   ]
  },
  {
   "cell_type": "code",
   "execution_count": 13,
   "metadata": {},
   "outputs": [
    {
     "data": {
      "image/png": "[encoded data removed]",
      "text/plain": [
       "plot without title"
      ]
     },
     "metadata": {},
     "output_type": "display_data"
    }
   ],
   "source": [
    "dotchart(data$grams)"
   ]
  },
  {
   "cell_type": "code",
   "execution_count": 14,
   "metadata": {},
   "outputs": [
    {
     "data": {
      "image/png": "[encoded data removed]",
      "text/plain": [
       "plot without title"
      ]
     },
     "metadata": {},
     "output_type": "display_data"
    }
   ],
   "source": [
    "x = data$grams[1:50]\n",
    "y = data$grams[51:100]\n",
    "boxplot(x,y)"
   ]
  },
  {
   "cell_type": "code",
   "execution_count": 15,
   "metadata": {},
   "outputs": [
    {
     "data": {
      "image/png": "[encoded data removed]",
      "text/plain": [
       "Plot with title \"Histogram of data$grams\""
      ]
     },
     "metadata": {},
     "output_type": "display_data"
    }
   ],
   "source": [
    "hist(data$grams)"
   ]
  },
  {
   "cell_type": "markdown",
   "metadata": {},
   "source": [
    "__rnorm()__ function can be used to generate random numbers from a normal distribution. <br /> _By default the mean is 0 and the standard deviation is 1._"
   ]
  },
  {
   "cell_type": "code",
   "execution_count": 29,
   "metadata": {},
   "outputs": [
    {
     "data": {
      "text/html": [
       "<ol class=list-inline>\n",
       "\t<li>0.709986367016501</li>\n",
       "\t<li>-0.228835612802246</li>\n",
       "\t<li>-0.106381167197315</li>\n",
       "</ol>\n"
      ],
      "text/latex": [
       "\\begin{enumerate*}\n",
       "\\item 0.709986367016501\n",
       "\\item -0.228835612802246\n",
       "\\item -0.106381167197315\n",
       "\\end{enumerate*}\n"
      ],
      "text/markdown": [
       "1. 0.709986367016501\n",
       "2. -0.228835612802246\n",
       "3. -0.106381167197315\n",
       "\n",
       "\n"
      ],
      "text/plain": [
       "[1]  0.7099864 -0.2288356 -0.1063812"
      ]
     },
     "metadata": {},
     "output_type": "display_data"
    }
   ],
   "source": [
    "rnorm(3)"
   ]
  },
  {
   "cell_type": "markdown",
   "metadata": {},
   "source": [
    "Use a different mean and standard deviation."
   ]
  },
  {
   "cell_type": "code",
   "execution_count": 30,
   "metadata": {},
   "outputs": [],
   "source": [
    "heights <- rnorm(100, mean=50, sd=10)"
   ]
  },
  {
   "cell_type": "code",
   "execution_count": 32,
   "metadata": {},
   "outputs": [
    {
     "data": {
      "text/html": [
       "<ol class=list-inline>\n",
       "\t<li>41.862738881724</li>\n",
       "\t<li>54.3333726293376</li>\n",
       "\t<li>54.4342217532865</li>\n",
       "\t<li>53.6047853605114</li>\n",
       "\t<li>41.2103362489697</li>\n",
       "\t<li>51.9211813007496</li>\n",
       "\t<li>53.9678121498871</li>\n",
       "\t<li>73.0817998984512</li>\n",
       "\t<li>53.9703398270111</li>\n",
       "\t<li>36.5415223352736</li>\n",
       "\t<li>51.1439947303197</li>\n",
       "\t<li>70.3424956367308</li>\n",
       "\t<li>66.7953943213672</li>\n",
       "\t<li>39.4868500188236</li>\n",
       "\t<li>42.9818423969138</li>\n",
       "\t<li>38.1359036888109</li>\n",
       "\t<li>43.1618536757544</li>\n",
       "\t<li>66.5886152459752</li>\n",
       "\t<li>40.8584272160481</li>\n",
       "\t<li>52.4270023485457</li>\n",
       "\t<li>56.6901750937157</li>\n",
       "\t<li>36.6156667903908</li>\n",
       "\t<li>56.1632010066118</li>\n",
       "\t<li>57.1452295812083</li>\n",
       "\t<li>35.6095950766669</li>\n",
       "\t<li>35.752613920016</li>\n",
       "\t<li>37.4803527209648</li>\n",
       "\t<li>75.6544731683571</li>\n",
       "\t<li>45.2407561887975</li>\n",
       "\t<li>37.3543721719924</li>\n",
       "\t<li>65.5584804377637</li>\n",
       "\t<li>40.5611444623006</li>\n",
       "\t<li>48.8519500628559</li>\n",
       "\t<li>42.0122916893121</li>\n",
       "\t<li>53.878414604055</li>\n",
       "\t<li>56.6077389103597</li>\n",
       "\t<li>37.3247490074259</li>\n",
       "\t<li>46.8465572053641</li>\n",
       "\t<li>43.2955103315551</li>\n",
       "\t<li>49.106817040561</li>\n",
       "\t<li>64.3829455576543</li>\n",
       "\t<li>41.2288781238222</li>\n",
       "\t<li>56.4991915843822</li>\n",
       "\t<li>51.0392305433267</li>\n",
       "\t<li>40.5894601841976</li>\n",
       "\t<li>53.0850090422902</li>\n",
       "\t<li>63.736527006852</li>\n",
       "\t<li>61.8856253990856</li>\n",
       "\t<li>44.3051187390703</li>\n",
       "\t<li>45.872439462602</li>\n",
       "\t<li>49.7158752025489</li>\n",
       "\t<li>42.9740898080581</li>\n",
       "\t<li>58.0182059400533</li>\n",
       "\t<li>40.2753052488562</li>\n",
       "\t<li>63.4363916824205</li>\n",
       "\t<li>41.7010473324827</li>\n",
       "\t<li>59.8397637497511</li>\n",
       "\t<li>43.4732281002508</li>\n",
       "\t<li>43.2186170931483</li>\n",
       "\t<li>41.2400069743852</li>\n",
       "\t<li>71.9797308327681</li>\n",
       "\t<li>48.4902279627058</li>\n",
       "\t<li>36.9136060393728</li>\n",
       "\t<li>42.0938316909778</li>\n",
       "\t<li>57.345932576695</li>\n",
       "\t<li>53.5970198098721</li>\n",
       "\t<li>63.8625145319322</li>\n",
       "\t<li>46.2301062028008</li>\n",
       "\t<li>61.9261045955052</li>\n",
       "\t<li>62.5718321855836</li>\n",
       "\t<li>48.4614247643598</li>\n",
       "\t<li>52.5760600530064</li>\n",
       "\t<li>39.0540216674956</li>\n",
       "\t<li>41.4089429410005</li>\n",
       "\t<li>55.186705859785</li>\n",
       "\t<li>52.1137385502666</li>\n",
       "\t<li>53.3538320131516</li>\n",
       "\t<li>41.8548423958004</li>\n",
       "\t<li>48.5915085760476</li>\n",
       "\t<li>54.439798151349</li>\n",
       "\t<li>57.9654977936527</li>\n",
       "\t<li>63.7158200205865</li>\n",
       "\t<li>54.9391042701543</li>\n",
       "\t<li>43.9259871041344</li>\n",
       "\t<li>54.0366102018607</li>\n",
       "\t<li>55.7728989457609</li>\n",
       "\t<li>58.1950903153927</li>\n",
       "\t<li>48.2352363379564</li>\n",
       "\t<li>58.273276030324</li>\n",
       "\t<li>58.6682196375153</li>\n",
       "\t<li>53.0311312230687</li>\n",
       "\t<li>72.9394511474038</li>\n",
       "\t<li>59.4050712106225</li>\n",
       "\t<li>55.7491124682731</li>\n",
       "\t<li>48.4416875016352</li>\n",
       "\t<li>49.0382856697809</li>\n",
       "\t<li>51.2128108707242</li>\n",
       "\t<li>57.0790885431218</li>\n",
       "\t<li>46.3713364544848</li>\n",
       "\t<li>57.2683877460102</li>\n",
       "</ol>\n"
      ],
      "text/latex": [
       "\\begin{enumerate*}\n",
       "\\item 41.862738881724\n",
       "\\item 54.3333726293376\n",
       "\\item 54.4342217532865\n",
       "\\item 53.6047853605114\n",
       "\\item 41.2103362489697\n",
       "\\item 51.9211813007496\n",
       "\\item 53.9678121498871\n",
       "\\item 73.0817998984512\n",
       "\\item 53.9703398270111\n",
       "\\item 36.5415223352736\n",
       "\\item 51.1439947303197\n",
       "\\item 70.3424956367308\n",
       "\\item 66.7953943213672\n",
       "\\item 39.4868500188236\n",
       "\\item 42.9818423969138\n",
       "\\item 38.1359036888109\n",
       "\\item 43.1618536757544\n",
       "\\item 66.5886152459752\n",
       "\\item 40.8584272160481\n",
       "\\item 52.4270023485457\n",
       "\\item 56.6901750937157\n",
       "\\item 36.6156667903908\n",
       "\\item 56.1632010066118\n",
       "\\item 57.1452295812083\n",
       "\\item 35.6095950766669\n",
       "\\item 35.752613920016\n",
       "\\item 37.4803527209648\n",
       "\\item 75.6544731683571\n",
       "\\item 45.2407561887975\n",
       "\\item 37.3543721719924\n",
       "\\item 65.5584804377637\n",
       "\\item 40.5611444623006\n",
       "\\item 48.8519500628559\n",
       "\\item 42.0122916893121\n",
       "\\item 53.878414604055\n",
       "\\item 56.6077389103597\n",
       "\\item 37.3247490074259\n",
       "\\item 46.8465572053641\n",
       "\\item 43.2955103315551\n",
       "\\item 49.106817040561\n",
       "\\item 64.3829455576543\n",
       "\\item 41.2288781238222\n",
       "\\item 56.4991915843822\n",
       "\\item 51.0392305433267\n",
       "\\item 40.5894601841976\n",
       "\\item 53.0850090422902\n",
       "\\item 63.736527006852\n",
       "\\item 61.8856253990856\n",
       "\\item 44.3051187390703\n",
       "\\item 45.872439462602\n",
       "\\item 49.7158752025489\n",
       "\\item 42.9740898080581\n",
       "\\item 58.0182059400533\n",
       "\\item 40.2753052488562\n",
       "\\item 63.4363916824205\n",
       "\\item 41.7010473324827\n",
       "\\item 59.8397637497511\n",
       "\\item 43.4732281002508\n",
       "\\item 43.2186170931483\n",
       "\\item 41.2400069743852\n",
       "\\item 71.9797308327681\n",
       "\\item 48.4902279627058\n",
       "\\item 36.9136060393728\n",
       "\\item 42.0938316909778\n",
       "\\item 57.345932576695\n",
       "\\item 53.5970198098721\n",
       "\\item 63.8625145319322\n",
       "\\item 46.2301062028008\n",
       "\\item 61.9261045955052\n",
       "\\item 62.5718321855836\n",
       "\\item 48.4614247643598\n",
       "\\item 52.5760600530064\n",
       "\\item 39.0540216674956\n",
       "\\item 41.4089429410005\n",
       "\\item 55.186705859785\n",
       "\\item 52.1137385502666\n",
       "\\item 53.3538320131516\n",
       "\\item 41.8548423958004\n",
       "\\item 48.5915085760476\n",
       "\\item 54.439798151349\n",
       "\\item 57.9654977936527\n",
       "\\item 63.7158200205865\n",
       "\\item 54.9391042701543\n",
       "\\item 43.9259871041344\n",
       "\\item 54.0366102018607\n",
       "\\item 55.7728989457609\n",
       "\\item 58.1950903153927\n",
       "\\item 48.2352363379564\n",
       "\\item 58.273276030324\n",
       "\\item 58.6682196375153\n",
       "\\item 53.0311312230687\n",
       "\\item 72.9394511474038\n",
       "\\item 59.4050712106225\n",
       "\\item 55.7491124682731\n",
       "\\item 48.4416875016352\n",
       "\\item 49.0382856697809\n",
       "\\item 51.2128108707242\n",
       "\\item 57.0790885431218\n",
       "\\item 46.3713364544848\n",
       "\\item 57.2683877460102\n",
       "\\end{enumerate*}\n"
      ],
      "text/markdown": [
       "1. 41.862738881724\n",
       "2. 54.3333726293376\n",
       "3. 54.4342217532865\n",
       "4. 53.6047853605114\n",
       "5. 41.2103362489697\n",
       "6. 51.9211813007496\n",
       "7. 53.9678121498871\n",
       "8. 73.0817998984512\n",
       "9. 53.9703398270111\n",
       "10. 36.5415223352736\n",
       "11. 51.1439947303197\n",
       "12. 70.3424956367308\n",
       "13. 66.7953943213672\n",
       "14. 39.4868500188236\n",
       "15. 42.9818423969138\n",
       "16. 38.1359036888109\n",
       "17. 43.1618536757544\n",
       "18. 66.5886152459752\n",
       "19. 40.8584272160481\n",
       "20. 52.4270023485457\n",
       "21. 56.6901750937157\n",
       "22. 36.6156667903908\n",
       "23. 56.1632010066118\n",
       "24. 57.1452295812083\n",
       "25. 35.6095950766669\n",
       "26. 35.752613920016\n",
       "27. 37.4803527209648\n",
       "28. 75.6544731683571\n",
       "29. 45.2407561887975\n",
       "30. 37.3543721719924\n",
       "31. 65.5584804377637\n",
       "32. 40.5611444623006\n",
       "33. 48.8519500628559\n",
       "34. 42.0122916893121\n",
       "35. 53.878414604055\n",
       "36. 56.6077389103597\n",
       "37. 37.3247490074259\n",
       "38. 46.8465572053641\n",
       "39. 43.2955103315551\n",
       "40. 49.106817040561\n",
       "41. 64.3829455576543\n",
       "42. 41.2288781238222\n",
       "43. 56.4991915843822\n",
       "44. 51.0392305433267\n",
       "45. 40.5894601841976\n",
       "46. 53.0850090422902\n",
       "47. 63.736527006852\n",
       "48. 61.8856253990856\n",
       "49. 44.3051187390703\n",
       "50. 45.872439462602\n",
       "51. 49.7158752025489\n",
       "52. 42.9740898080581\n",
       "53. 58.0182059400533\n",
       "54. 40.2753052488562\n",
       "55. 63.4363916824205\n",
       "56. 41.7010473324827\n",
       "57. 59.8397637497511\n",
       "58. 43.4732281002508\n",
       "59. 43.2186170931483\n",
       "60. 41.2400069743852\n",
       "61. 71.9797308327681\n",
       "62. 48.4902279627058\n",
       "63. 36.9136060393728\n",
       "64. 42.0938316909778\n",
       "65. 57.345932576695\n",
       "66. 53.5970198098721\n",
       "67. 63.8625145319322\n",
       "68. 46.2301062028008\n",
       "69. 61.9261045955052\n",
       "70. 62.5718321855836\n",
       "71. 48.4614247643598\n",
       "72. 52.5760600530064\n",
       "73. 39.0540216674956\n",
       "74. 41.4089429410005\n",
       "75. 55.186705859785\n",
       "76. 52.1137385502666\n",
       "77. 53.3538320131516\n",
       "78. 41.8548423958004\n",
       "79. 48.5915085760476\n",
       "80. 54.439798151349\n",
       "81. 57.9654977936527\n",
       "82. 63.7158200205865\n",
       "83. 54.9391042701543\n",
       "84. 43.9259871041344\n",
       "85. 54.0366102018607\n",
       "86. 55.7728989457609\n",
       "87. 58.1950903153927\n",
       "88. 48.2352363379564\n",
       "89. 58.273276030324\n",
       "90. 58.6682196375153\n",
       "91. 53.0311312230687\n",
       "92. 72.9394511474038\n",
       "93. 59.4050712106225\n",
       "94. 55.7491124682731\n",
       "95. 48.4416875016352\n",
       "96. 49.0382856697809\n",
       "97. 51.2128108707242\n",
       "98. 57.0790885431218\n",
       "99. 46.3713364544848\n",
       "100. 57.2683877460102\n",
       "\n",
       "\n"
      ],
      "text/plain": [
       "  [1] 41.86274 54.33337 54.43422 53.60479 41.21034 51.92118 53.96781 73.08180\n",
       "  [9] 53.97034 36.54152 51.14399 70.34250 66.79539 39.48685 42.98184 38.13590\n",
       " [17] 43.16185 66.58862 40.85843 52.42700 56.69018 36.61567 56.16320 57.14523\n",
       " [25] 35.60960 35.75261 37.48035 75.65447 45.24076 37.35437 65.55848 40.56114\n",
       " [33] 48.85195 42.01229 53.87841 56.60774 37.32475 46.84656 43.29551 49.10682\n",
       " [41] 64.38295 41.22888 56.49919 51.03923 40.58946 53.08501 63.73653 61.88563\n",
       " [49] 44.30512 45.87244 49.71588 42.97409 58.01821 40.27531 63.43639 41.70105\n",
       " [57] 59.83976 43.47323 43.21862 41.24001 71.97973 48.49023 36.91361 42.09383\n",
       " [65] 57.34593 53.59702 63.86251 46.23011 61.92610 62.57183 48.46142 52.57606\n",
       " [73] 39.05402 41.40894 55.18671 52.11374 53.35383 41.85484 48.59151 54.43980\n",
       " [81] 57.96550 63.71582 54.93910 43.92599 54.03661 55.77290 58.19509 48.23524\n",
       " [89] 58.27328 58.66822 53.03113 72.93945 59.40507 55.74911 48.44169 49.03829\n",
       " [97] 51.21281 57.07909 46.37134 57.26839"
      ]
     },
     "metadata": {},
     "output_type": "display_data"
    }
   ],
   "source": [
    "heights"
   ]
  },
  {
   "cell_type": "code",
   "execution_count": 12,
   "metadata": {},
   "outputs": [],
   "source": [
    "weights <- data$grams"
   ]
  },
  {
   "cell_type": "code",
   "execution_count": 18,
   "metadata": {},
   "outputs": [
    {
     "ename": "ERROR",
     "evalue": "Error in xy.coords(x, y, xlabel, ylabel, log): 'heights' nesnesi bulunamadı\n",
     "output_type": "error",
     "traceback": [
      "Error in xy.coords(x, y, xlabel, ylabel, log): 'heights' nesnesi bulunamadı\nTraceback:\n",
      "1. plot(data$grams, heights, main = \"Scatterplot Example\", xlab = \"Infants Weights \", \n .     ylab = \"Heights \", pch = 19)",
      "2. plot.default(data$grams, heights, main = \"Scatterplot Example\", \n .     xlab = \"Infants Weights \", ylab = \"Heights \", pch = 19)",
      "3. xy.coords(x, y, xlabel, ylabel, log)"
     ]
    }
   ],
   "source": [
    "plot(data$grams, heights, main=\"Scatterplot Example\",\n",
    "   xlab=\"Infants Weights \", ylab=\"Heights \", pch=19) "
   ]
  },
  {
   "cell_type": "code",
   "execution_count": 14,
   "metadata": {},
   "outputs": [],
   "source": [
    "order_weights <- sort(data$grams)\n",
    "order_heights <- sort(heights)"
   ]
  },
  {
   "cell_type": "code",
   "execution_count": 15,
   "metadata": {},
   "outputs": [
    {
     "data": {
      "text/html": [
       "<ol class=list-inline>\n",
       "\t<li>1588</li>\n",
       "\t<li>1899</li>\n",
       "\t<li>2211</li>\n",
       "\t<li>2211</li>\n",
       "\t<li>2211</li>\n",
       "\t<li>2268</li>\n",
       "\t<li>2410</li>\n",
       "\t<li>2438</li>\n",
       "\t<li>2552</li>\n",
       "\t<li>2552</li>\n",
       "\t<li>2608</li>\n",
       "\t<li>2608</li>\n",
       "\t<li>2637</li>\n",
       "\t<li>2637</li>\n",
       "\t<li>2693</li>\n",
       "\t<li>2693</li>\n",
       "\t<li>2722</li>\n",
       "\t<li>2750</li>\n",
       "\t<li>2778</li>\n",
       "\t<li>2778</li>\n",
       "\t<li>2778</li>\n",
       "\t<li>2778</li>\n",
       "\t<li>2807</li>\n",
       "\t<li>2807</li>\n",
       "\t<li>2807</li>\n",
       "\t<li>2835</li>\n",
       "\t<li>2835</li>\n",
       "\t<li>2863</li>\n",
       "\t<li>2863</li>\n",
       "\t<li>2863</li>\n",
       "\t<li>2892</li>\n",
       "\t<li>2892</li>\n",
       "\t<li>2892</li>\n",
       "\t<li>2920</li>\n",
       "\t<li>2977</li>\n",
       "\t<li>2977</li>\n",
       "\t<li>3005</li>\n",
       "\t<li>3005</li>\n",
       "\t<li>3033</li>\n",
       "\t<li>3062</li>\n",
       "\t<li>3062</li>\n",
       "\t<li>3090</li>\n",
       "\t<li>3090</li>\n",
       "\t<li>3090</li>\n",
       "\t<li>3090</li>\n",
       "\t<li>3118</li>\n",
       "\t<li>3118</li>\n",
       "\t<li>3118</li>\n",
       "\t<li>3147</li>\n",
       "\t<li>3147</li>\n",
       "\t<li>3147</li>\n",
       "\t<li>3204</li>\n",
       "\t<li>3204</li>\n",
       "\t<li>3204</li>\n",
       "\t<li>3231</li>\n",
       "\t<li>3232</li>\n",
       "\t<li>3232</li>\n",
       "\t<li>3232</li>\n",
       "\t<li>3232</li>\n",
       "\t<li>3232</li>\n",
       "\t<li>3260</li>\n",
       "\t<li>3260</li>\n",
       "\t<li>3260</li>\n",
       "\t<li>3288</li>\n",
       "\t<li>3289</li>\n",
       "\t<li>3289</li>\n",
       "\t<li>3317</li>\n",
       "\t<li>3317</li>\n",
       "\t<li>3317</li>\n",
       "\t<li>3317</li>\n",
       "\t<li>3345</li>\n",
       "\t<li>3345</li>\n",
       "\t<li>3345</li>\n",
       "\t<li>3374</li>\n",
       "\t<li>3374</li>\n",
       "\t<li>3402</li>\n",
       "\t<li>3402</li>\n",
       "\t<li>3430</li>\n",
       "\t<li>3430</li>\n",
       "\t<li>3459</li>\n",
       "\t<li>3487</li>\n",
       "\t<li>3515</li>\n",
       "\t<li>3515</li>\n",
       "\t<li>3600</li>\n",
       "\t<li>3600</li>\n",
       "\t<li>3629</li>\n",
       "\t<li>3629</li>\n",
       "\t<li>3629</li>\n",
       "\t<li>3657</li>\n",
       "\t<li>3685</li>\n",
       "\t<li>3827</li>\n",
       "\t<li>3827</li>\n",
       "\t<li>3856</li>\n",
       "\t<li>3997</li>\n",
       "\t<li>4026</li>\n",
       "\t<li>4026</li>\n",
       "\t<li>4139</li>\n",
       "\t<li>4309</li>\n",
       "\t<li>4479</li>\n",
       "\t<li>4819</li>\n",
       "</ol>\n"
      ],
      "text/latex": [
       "\\begin{enumerate*}\n",
       "\\item 1588\n",
       "\\item 1899\n",
       "\\item 2211\n",
       "\\item 2211\n",
       "\\item 2211\n",
       "\\item 2268\n",
       "\\item 2410\n",
       "\\item 2438\n",
       "\\item 2552\n",
       "\\item 2552\n",
       "\\item 2608\n",
       "\\item 2608\n",
       "\\item 2637\n",
       "\\item 2637\n",
       "\\item 2693\n",
       "\\item 2693\n",
       "\\item 2722\n",
       "\\item 2750\n",
       "\\item 2778\n",
       "\\item 2778\n",
       "\\item 2778\n",
       "\\item 2778\n",
       "\\item 2807\n",
       "\\item 2807\n",
       "\\item 2807\n",
       "\\item 2835\n",
       "\\item 2835\n",
       "\\item 2863\n",
       "\\item 2863\n",
       "\\item 2863\n",
       "\\item 2892\n",
       "\\item 2892\n",
       "\\item 2892\n",
       "\\item 2920\n",
       "\\item 2977\n",
       "\\item 2977\n",
       "\\item 3005\n",
       "\\item 3005\n",
       "\\item 3033\n",
       "\\item 3062\n",
       "\\item 3062\n",
       "\\item 3090\n",
       "\\item 3090\n",
       "\\item 3090\n",
       "\\item 3090\n",
       "\\item 3118\n",
       "\\item 3118\n",
       "\\item 3118\n",
       "\\item 3147\n",
       "\\item 3147\n",
       "\\item 3147\n",
       "\\item 3204\n",
       "\\item 3204\n",
       "\\item 3204\n",
       "\\item 3231\n",
       "\\item 3232\n",
       "\\item 3232\n",
       "\\item 3232\n",
       "\\item 3232\n",
       "\\item 3232\n",
       "\\item 3260\n",
       "\\item 3260\n",
       "\\item 3260\n",
       "\\item 3288\n",
       "\\item 3289\n",
       "\\item 3289\n",
       "\\item 3317\n",
       "\\item 3317\n",
       "\\item 3317\n",
       "\\item 3317\n",
       "\\item 3345\n",
       "\\item 3345\n",
       "\\item 3345\n",
       "\\item 3374\n",
       "\\item 3374\n",
       "\\item 3402\n",
       "\\item 3402\n",
       "\\item 3430\n",
       "\\item 3430\n",
       "\\item 3459\n",
       "\\item 3487\n",
       "\\item 3515\n",
       "\\item 3515\n",
       "\\item 3600\n",
       "\\item 3600\n",
       "\\item 3629\n",
       "\\item 3629\n",
       "\\item 3629\n",
       "\\item 3657\n",
       "\\item 3685\n",
       "\\item 3827\n",
       "\\item 3827\n",
       "\\item 3856\n",
       "\\item 3997\n",
       "\\item 4026\n",
       "\\item 4026\n",
       "\\item 4139\n",
       "\\item 4309\n",
       "\\item 4479\n",
       "\\item 4819\n",
       "\\end{enumerate*}\n"
      ],
      "text/markdown": [
       "1. 1588\n",
       "2. 1899\n",
       "3. 2211\n",
       "4. 2211\n",
       "5. 2211\n",
       "6. 2268\n",
       "7. 2410\n",
       "8. 2438\n",
       "9. 2552\n",
       "10. 2552\n",
       "11. 2608\n",
       "12. 2608\n",
       "13. 2637\n",
       "14. 2637\n",
       "15. 2693\n",
       "16. 2693\n",
       "17. 2722\n",
       "18. 2750\n",
       "19. 2778\n",
       "20. 2778\n",
       "21. 2778\n",
       "22. 2778\n",
       "23. 2807\n",
       "24. 2807\n",
       "25. 2807\n",
       "26. 2835\n",
       "27. 2835\n",
       "28. 2863\n",
       "29. 2863\n",
       "30. 2863\n",
       "31. 2892\n",
       "32. 2892\n",
       "33. 2892\n",
       "34. 2920\n",
       "35. 2977\n",
       "36. 2977\n",
       "37. 3005\n",
       "38. 3005\n",
       "39. 3033\n",
       "40. 3062\n",
       "41. 3062\n",
       "42. 3090\n",
       "43. 3090\n",
       "44. 3090\n",
       "45. 3090\n",
       "46. 3118\n",
       "47. 3118\n",
       "48. 3118\n",
       "49. 3147\n",
       "50. 3147\n",
       "51. 3147\n",
       "52. 3204\n",
       "53. 3204\n",
       "54. 3204\n",
       "55. 3231\n",
       "56. 3232\n",
       "57. 3232\n",
       "58. 3232\n",
       "59. 3232\n",
       "60. 3232\n",
       "61. 3260\n",
       "62. 3260\n",
       "63. 3260\n",
       "64. 3288\n",
       "65. 3289\n",
       "66. 3289\n",
       "67. 3317\n",
       "68. 3317\n",
       "69. 3317\n",
       "70. 3317\n",
       "71. 3345\n",
       "72. 3345\n",
       "73. 3345\n",
       "74. 3374\n",
       "75. 3374\n",
       "76. 3402\n",
       "77. 3402\n",
       "78. 3430\n",
       "79. 3430\n",
       "80. 3459\n",
       "81. 3487\n",
       "82. 3515\n",
       "83. 3515\n",
       "84. 3600\n",
       "85. 3600\n",
       "86. 3629\n",
       "87. 3629\n",
       "88. 3629\n",
       "89. 3657\n",
       "90. 3685\n",
       "91. 3827\n",
       "92. 3827\n",
       "93. 3856\n",
       "94. 3997\n",
       "95. 4026\n",
       "96. 4026\n",
       "97. 4139\n",
       "98. 4309\n",
       "99. 4479\n",
       "100. 4819\n",
       "\n",
       "\n"
      ],
      "text/plain": [
       "  [1] 1588 1899 2211 2211 2211 2268 2410 2438 2552 2552 2608 2608 2637 2637 2693\n",
       " [16] 2693 2722 2750 2778 2778 2778 2778 2807 2807 2807 2835 2835 2863 2863 2863\n",
       " [31] 2892 2892 2892 2920 2977 2977 3005 3005 3033 3062 3062 3090 3090 3090 3090\n",
       " [46] 3118 3118 3118 3147 3147 3147 3204 3204 3204 3231 3232 3232 3232 3232 3232\n",
       " [61] 3260 3260 3260 3288 3289 3289 3317 3317 3317 3317 3345 3345 3345 3374 3374\n",
       " [76] 3402 3402 3430 3430 3459 3487 3515 3515 3600 3600 3629 3629 3629 3657 3685\n",
       " [91] 3827 3827 3856 3997 4026 4026 4139 4309 4479 4819"
      ]
     },
     "metadata": {},
     "output_type": "display_data"
    }
   ],
   "source": [
    "order_weights"
   ]
  },
  {
   "cell_type": "code",
   "execution_count": 16,
   "metadata": {},
   "outputs": [
    {
     "data": {
      "image/png": "[encoded data removed]",
      "text/plain": [
       "Plot with title \"Scatterplot Example 2\""
      ]
     },
     "metadata": {},
     "output_type": "display_data"
    }
   ],
   "source": [
    "plot(order_weights, order_heights, main=\"Scatterplot Example 2\",\n",
    "   xlab=\"Infants Weights \", ylab=\"Heights \", pch=19) "
   ]
  },
  {
   "cell_type": "code",
   "execution_count": null,
   "metadata": {},
   "outputs": [],
   "source": []
  }
 ],
 "metadata": {
  "kernelspec": {
   "display_name": "R",
   "language": "R",
   "name": "ir"
  },
  "language_info": {
   "codemirror_mode": "r",
   "file_extension": ".r",
   "mimetype": "text/x-r-source",
   "name": "R",
   "pygments_lexer": "r",
   "version": "3.6.0"
  }
 },
 "nbformat": 4,
 "nbformat_minor": 2
}
