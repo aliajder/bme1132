{
 "cells": [
  {
   "cell_type": "markdown",
   "metadata": {},
   "source": [
    "# To Enter Raw Data into R "
   ]
  },
  {
   "cell_type": "markdown",
   "metadata": {},
   "source": [
    "In general, you want to create “vectors” of data. <br /> __For example:__ myvariable1=c(X1, X2, X3, ...) "
   ]
  },
  {
   "cell_type": "code",
   "execution_count": 1,
   "metadata": {},
   "outputs": [],
   "source": [
    "weight = c(3265, 3260, 3245, 3484, 4146)"
   ]
  },
  {
   "cell_type": "markdown",
   "metadata": {},
   "source": [
    "If you prefer entering them in more of a spreadsheet window, one way to convince R to let you do this is just to type __data.entry(1)__. <br />  If you type __ls()__ you should now see the variable names you created. <br /> To change any of the data values, you can then use  __data.entry(variablename)__."
   ]
  },
  {
   "cell_type": "code",
   "execution_count": 6,
   "metadata": {},
   "outputs": [],
   "source": [
    "data.entry(1)"
   ]
  },
  {
   "cell_type": "code",
   "execution_count": 7,
   "metadata": {},
   "outputs": [
    {
     "data": {
      "text/html": [
       "<ol class=list-inline>\n",
       "\t<li>'1'</li>\n",
       "\t<li>'grams'</li>\n",
       "\t<li>'weight'</li>\n",
       "</ol>\n"
      ],
      "text/latex": [
       "\\begin{enumerate*}\n",
       "\\item '1'\n",
       "\\item 'grams'\n",
       "\\item 'weight'\n",
       "\\end{enumerate*}\n"
      ],
      "text/markdown": [
       "1. '1'\n",
       "2. 'grams'\n",
       "3. 'weight'\n",
       "\n",
       "\n"
      ],
      "text/plain": [
       "[1] \"1\"      \"grams\"  \"weight\""
      ]
     },
     "metadata": {},
     "output_type": "display_data"
    }
   ],
   "source": [
    "ls()"
   ]
  },
  {
   "cell_type": "code",
   "execution_count": 8,
   "metadata": {},
   "outputs": [
    {
     "data": {
      "text/html": [
       "<ol class=list-inline>\n",
       "\t<li>2300</li>\n",
       "\t<li>4500</li>\n",
       "\t<li>3650</li>\n",
       "\t<li>4569</li>\n",
       "</ol>\n"
      ],
      "text/latex": [
       "\\begin{enumerate*}\n",
       "\\item 2300\n",
       "\\item 4500\n",
       "\\item 3650\n",
       "\\item 4569\n",
       "\\end{enumerate*}\n"
      ],
      "text/markdown": [
       "1. 2300\n",
       "2. 4500\n",
       "3. 3650\n",
       "4. 4569\n",
       "\n",
       "\n"
      ],
      "text/plain": [
       "[1] 2300 4500 3650 4569"
      ]
     },
     "metadata": {},
     "output_type": "display_data"
    }
   ],
   "source": [
    "grams"
   ]
  },
  {
   "cell_type": "code",
   "execution_count": 4,
   "metadata": {},
   "outputs": [],
   "source": []
  },
  {
   "cell_type": "code",
   "execution_count": 9,
   "metadata": {},
   "outputs": [
    {
     "data": {
      "text/html": [
       "3754.75"
      ],
      "text/latex": [
       "3754.75"
      ],
      "text/markdown": [
       "3754.75"
      ],
      "text/plain": [
       "[1] 3754.75"
      ]
     },
     "metadata": {},
     "output_type": "display_data"
    }
   ],
   "source": [
    "mean(grams)"
   ]
  },
  {
   "cell_type": "code",
   "execution_count": 10,
   "metadata": {},
   "outputs": [
    {
     "data": {
      "text/html": [
       "1115223.58333333"
      ],
      "text/latex": [
       "1115223.58333333"
      ],
      "text/markdown": [
       "1115223.58333333"
      ],
      "text/plain": [
       "[1] 1115224"
      ]
     },
     "metadata": {},
     "output_type": "display_data"
    }
   ],
   "source": [
    "var(grams)"
   ]
  },
  {
   "cell_type": "code",
   "execution_count": 11,
   "metadata": {},
   "outputs": [
    {
     "data": {
      "text/html": [
       "1056.04146856709"
      ],
      "text/latex": [
       "1056.04146856709"
      ],
      "text/markdown": [
       "1056.04146856709"
      ],
      "text/plain": [
       "[1] 1056.041"
      ]
     },
     "metadata": {},
     "output_type": "display_data"
    }
   ],
   "source": [
    "sd(grams)"
   ]
  },
  {
   "cell_type": "code",
   "execution_count": 12,
   "metadata": {},
   "outputs": [
    {
     "data": {
      "text/html": [
       "4075"
      ],
      "text/latex": [
       "4075"
      ],
      "text/markdown": [
       "4075"
      ],
      "text/plain": [
       "[1] 4075"
      ]
     },
     "metadata": {},
     "output_type": "display_data"
    }
   ],
   "source": [
    "median(grams)"
   ]
  },
  {
   "cell_type": "code",
   "execution_count": 14,
   "metadata": {},
   "outputs": [
    {
     "data": {
      "text/html": [
       "<ol class=list-inline>\n",
       "\t<li>3265</li>\n",
       "\t<li>3260</li>\n",
       "\t<li>3323</li>\n",
       "</ol>\n"
      ],
      "text/latex": [
       "\\begin{enumerate*}\n",
       "\\item 3265\n",
       "\\item 3260\n",
       "\\item 3323\n",
       "\\end{enumerate*}\n"
      ],
      "text/markdown": [
       "1. 3265\n",
       "2. 3260\n",
       "3. 3323\n",
       "\n",
       "\n"
      ],
      "text/plain": [
       "[1] 3265 3260 3323"
      ]
     },
     "metadata": {},
     "output_type": "display_data"
    }
   ],
   "source": [
    "grams"
   ]
  },
  {
   "cell_type": "code",
   "execution_count": 16,
   "metadata": {},
   "outputs": [],
   "source": [
    "data.entry(grams)"
   ]
  }
 ],
 "metadata": {
  "kernelspec": {
   "display_name": "R",
   "language": "R",
   "name": "ir"
  },
  "language_info": {
   "codemirror_mode": "r",
   "file_extension": ".r",
   "mimetype": "text/x-r-source",
   "name": "R",
   "pygments_lexer": "r",
   "version": "3.6.0"
  }
 },
 "nbformat": 4,
 "nbformat_minor": 2
}
